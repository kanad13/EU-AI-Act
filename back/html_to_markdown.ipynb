{
 "cells": [
  {
   "cell_type": "markdown",
   "metadata": {},
   "source": [
    "# Webpage to Markdown Converter\n",
    "\n",
    "- This Jupyter notebook allows you to download a webpage, convert it into Markdown format, and save the result locally in the \"downloads\" folder.\n",
    "- The notebook is designed to be modular, with reusable functions for downloading, saving, and converting content.\n",
    "- Additionally, it includes error handling and feedback at each stage to ensure a smooth experience.\n"
   ]
  },
  {
   "cell_type": "markdown",
   "metadata": {},
   "source": [
    "## Import Libraries\n",
    "\n",
    "- We will use the following libraries:\n",
    "  - `requests`: To download webpage content.\n",
    "  - `BeautifulSoup`: To parse the HTML.\n",
    "  - `Markdownify`: To convert HTML to Markdown.\n",
    "  - `os`: To manage file and directory operations.\n",
    "  - `logging`: For providing feedback and managing errors.\n"
   ]
  },
  {
   "cell_type": "code",
   "execution_count": 1,
   "metadata": {},
   "outputs": [],
   "source": [
    "# Import necessary libraries\n",
    "import os\n",
    "import requests\n",
    "from bs4 import BeautifulSoup\n",
    "from markdownify import markdownify as md\n",
    "import logging\n",
    "\n",
    "# Configure logging for user feedback and error handling\n",
    "logging.basicConfig(level=logging.INFO, format='%(levelname)s: %(message)s')\n",
    "\n",
    "# Create 'downloads' folder if it doesn't exist\n",
    "if not os.path.exists('downloads'):\n",
    "    os.makedirs('downloads')\n"
   ]
  },
  {
   "cell_type": "markdown",
   "metadata": {},
   "source": [
    "## Function to Download Webpage\n",
    "\n",
    "- This function takes a URL as input and attempts to download its HTML content using the `requests` library.\n",
    "- It includes error handling for invalid URLs or network issues.\n",
    "- The content is returned if the download is successful.\n"
   ]
  },
  {
   "cell_type": "code",
   "execution_count": 2,
   "metadata": {},
   "outputs": [],
   "source": [
    "def download_webpage(url):\n",
    "    \"\"\"\n",
    "    Downloads the webpage content from the given URL.\n",
    "\n",
    "    Parameters:\n",
    "    - url (str): The URL of the webpage to download.\n",
    "\n",
    "    Returns:\n",
    "    - str: HTML content of the downloaded webpage if successful.\n",
    "    \"\"\"\n",
    "    try:\n",
    "        logging.info(\"Attempting to download webpage...\")\n",
    "        response = requests.get(url, timeout=10)\n",
    "        response.raise_for_status()  # Raise HTTPError for bad responses\n",
    "        logging.info(\"Webpage downloaded successfully!\")\n",
    "        return response.text\n",
    "    except requests.exceptions.RequestException as e:\n",
    "        logging.error(f\"Error downloading webpage: {e}\")\n",
    "        return None\n"
   ]
  },
  {
   "cell_type": "markdown",
   "metadata": {},
   "source": [
    "## Function to Save HTML Content\n",
    "\n",
    "- This function saves the downloaded HTML content into a file within the \"downloads\" folder.\n",
    "- It checks for file system issues, such as permissions, and provides user feedback.\n"
   ]
  },
  {
   "cell_type": "code",
   "execution_count": 3,
   "metadata": {},
   "outputs": [],
   "source": [
    "def save_html(content, filename):\n",
    "    \"\"\"\n",
    "    Saves the HTML content to a file in the 'downloads' folder.\n",
    "\n",
    "    Parameters:\n",
    "    - content (str): HTML content to be saved.\n",
    "    - filename (str): The name of the file to save the content as.\n",
    "\n",
    "    Returns:\n",
    "    - str: Full path of the saved file.\n",
    "    \"\"\"\n",
    "    try:\n",
    "        filepath = os.path.join('downloads', filename)\n",
    "        with open(filepath, 'w', encoding='utf-8') as file:\n",
    "            file.write(content)\n",
    "        logging.info(f\"HTML content saved to {filepath}\")\n",
    "        return filepath\n",
    "    except OSError as e:\n",
    "        logging.error(f\"Error saving file: {e}\")\n",
    "        return None\n"
   ]
  },
  {
   "cell_type": "markdown",
   "metadata": {},
   "source": [
    "## Function to Convert HTML to Markdown\n",
    "\n",
    "- This function uses the `Markdownify` library to convert the downloaded HTML content into Markdown format.\n"
   ]
  },
  {
   "cell_type": "code",
   "execution_count": 4,
   "metadata": {},
   "outputs": [],
   "source": [
    "def convert_to_markdown(html_content):\n",
    "    \"\"\"\n",
    "    Converts HTML content to Markdown format using Markdownify.\n",
    "\n",
    "    Parameters:\n",
    "    - html_content (str): HTML content to be converted.\n",
    "\n",
    "    Returns:\n",
    "    - str: Converted Markdown content.\n",
    "    \"\"\"\n",
    "    try:\n",
    "        logging.info(\"Converting HTML content to Markdown...\")\n",
    "        markdown_content = md(html_content)\n",
    "        logging.info(\"Conversion to Markdown successful!\")\n",
    "        return markdown_content\n",
    "    except Exception as e:\n",
    "        logging.error(f\"Error converting to Markdown: {e}\")\n",
    "        return None\n"
   ]
  },
  {
   "cell_type": "markdown",
   "metadata": {},
   "source": [
    "## Function to Verify HTML Content\n",
    "\n",
    "- This function verifies the presence of essential HTML tags, such as `<title>`.\n",
    "- If such tags are missing, the function warns the user.\n"
   ]
  },
  {
   "cell_type": "code",
   "execution_count": 5,
   "metadata": {},
   "outputs": [],
   "source": [
    "def verify_html_content(content):\n",
    "    \"\"\"\n",
    "    Verifies the presence of essential HTML tags like <title> in the HTML content.\n",
    "\n",
    "    Parameters:\n",
    "    - content (str): HTML content to be verified.\n",
    "\n",
    "    Returns:\n",
    "    - bool: True if essential tags are present, False otherwise.\n",
    "    \"\"\"\n",
    "    try:\n",
    "        soup = BeautifulSoup(content, 'html.parser')\n",
    "        if soup.title and soup.meta:\n",
    "            logging.info(\"HTML content verification successful!\")\n",
    "            return True\n",
    "        else:\n",
    "            logging.warning(\"Essential HTML tags are missing (e.g., <title>, <meta>)\")\n",
    "            return False\n",
    "    except Exception as e:\n",
    "        logging.error(f\"Error verifying HTML content: {e}\")\n",
    "        return False\n"
   ]
  },
  {
   "cell_type": "markdown",
   "metadata": {
    "vscode": {
     "languageId": "plaintext"
    }
   },
   "source": [
    "## User Input\n",
    "\n",
    "- Prompt the user for a URL and an optional filename.\n",
    "- If no filename is provided, a default name is used based on the webpage's title or URL.\n"
   ]
  },
  {
   "cell_type": "code",
   "execution_count": 6,
   "metadata": {},
   "outputs": [],
   "source": [
    "# Prompt the user for a URL\n",
    "url = input(\"Enter the URL of the webpage: \")\n",
    "\n",
    "# Optional custom filename\n",
    "filename = input(\"Enter a custom filename (leave blank for default): \").strip()\n",
    "\n",
    "# If no filename is provided, use a default name based on the webpage's title or URL\n",
    "if not filename:\n",
    "    filename = 'default_webpage.html'\n",
    "else:\n",
    "    # Ensure the provided filename has the correct extension for the HTML file\n",
    "    if not filename.endswith('.html'):\n",
    "        filename += '.html'\n"
   ]
  },
  {
   "cell_type": "markdown",
   "metadata": {},
   "source": [
    "## Main Workflow\n",
    "\n",
    "- Here we bring everything together.\n",
    "- The workflow involves downloading the webpage, verifying the content, saving the HTML, and converting it to Markdown.\n",
    "- Feedback is provided at each stage.\n"
   ]
  },
  {
   "cell_type": "code",
   "execution_count": 7,
   "metadata": {},
   "outputs": [
    {
     "name": "stderr",
     "output_type": "stream",
     "text": [
      "INFO: Attempting to download webpage...\n",
      "INFO: Webpage downloaded successfully!\n",
      "INFO: HTML content verification successful!\n",
      "INFO: HTML content saved to downloads/eu_ai_act-full_text.html\n",
      "INFO: Converting HTML content to Markdown...\n",
      "INFO: Conversion to Markdown successful!\n",
      "INFO: HTML content saved to downloads/eu_ai_act-full_text.md\n"
     ]
    }
   ],
   "source": [
    "# Main workflow\n",
    "html_content = download_webpage(url)\n",
    "\n",
    "if html_content:\n",
    "    if verify_html_content(html_content):\n",
    "        # Save HTML file (with correct .html extension)\n",
    "        saved_path = save_html(html_content, filename)\n",
    "\n",
    "        if saved_path:\n",
    "            # Convert HTML to Markdown and save as .md file\n",
    "            markdown_content = convert_to_markdown(html_content)\n",
    "            if markdown_content:\n",
    "                markdown_filename = filename.replace('.html', '.md')\n",
    "                save_html(markdown_content, markdown_filename)\n"
   ]
  }
 ],
 "metadata": {
  "kernelspec": {
   "display_name": "eu_ai_act_venv",
   "language": "python",
   "name": "python3"
  },
  "language_info": {
   "codemirror_mode": {
    "name": "ipython",
    "version": 3
   },
   "file_extension": ".py",
   "mimetype": "text/x-python",
   "name": "python",
   "nbconvert_exporter": "python",
   "pygments_lexer": "ipython3",
   "version": "3.12.6"
  }
 },
 "nbformat": 4,
 "nbformat_minor": 2
}
